{
  "nbformat": 4,
  "nbformat_minor": 0,
  "metadata": {
    "colab": {
      "provenance": []
    },
    "kernelspec": {
      "name": "python3",
      "display_name": "Python 3"
    },
    "language_info": {
      "name": "python"
    }
  },
  "cells": [
    {
      "cell_type": "markdown",
      "source": [
        "# Importing Libraries"
      ],
      "metadata": {
        "id": "Y7eUdvOwcA0K"
      }
    },
    {
      "cell_type": "code",
      "execution_count": 89,
      "metadata": {
        "id": "cYPaP8iXrWRK"
      },
      "outputs": [],
      "source": [
        "import numpy as np\n",
        "import pandas as pd\n",
        "from sklearn.model_selection import train_test_split, StratifiedShuffleSplit\n",
        "from sklearn.preprocessing import StandardScaler\n",
        "from sklearn.ensemble import RandomForestClassifier\n",
        "from sklearn.linear_model import LogisticRegression\n",
        "from sklearn.svm import SVC\n",
        "from sklearn.tree import DecisionTreeClassifier\n",
        "from sklearn.neighbors import KNeighborsClassifier\n",
        "from sklearn.metrics import accuracy_score\n",
        "from sklearn.cluster import KMeans"
      ]
    },
    {
      "cell_type": "markdown",
      "source": [
        " # Load and Explore the Dataset"
      ],
      "metadata": {
        "id": "MIwqHb9vcQiw"
      }
    },
    {
      "cell_type": "code",
      "source": [
        "df = pd.read_csv(\"Creditcard_data.csv\")\n",
        "\n",
        "print(df.info())\n",
        "print(df.describe())\n",
        "print(df['Class'].value_counts())\n",
        "print(df.isnull().sum())"
      ],
      "metadata": {
        "colab": {
          "base_uri": "https://localhost:8080/"
        },
        "id": "PJmTrcdyYVZD",
        "outputId": "39bfa386-3871-4268-d3b4-25e3ae3329af"
      },
      "execution_count": 90,
      "outputs": [
        {
          "output_type": "stream",
          "name": "stdout",
          "text": [
            "<class 'pandas.core.frame.DataFrame'>\n",
            "RangeIndex: 772 entries, 0 to 771\n",
            "Data columns (total 31 columns):\n",
            " #   Column  Non-Null Count  Dtype  \n",
            "---  ------  --------------  -----  \n",
            " 0   Time    772 non-null    int64  \n",
            " 1   V1      772 non-null    float64\n",
            " 2   V2      772 non-null    float64\n",
            " 3   V3      772 non-null    float64\n",
            " 4   V4      772 non-null    float64\n",
            " 5   V5      772 non-null    float64\n",
            " 6   V6      772 non-null    float64\n",
            " 7   V7      772 non-null    float64\n",
            " 8   V8      772 non-null    float64\n",
            " 9   V9      772 non-null    float64\n",
            " 10  V10     772 non-null    float64\n",
            " 11  V11     772 non-null    float64\n",
            " 12  V12     772 non-null    float64\n",
            " 13  V13     772 non-null    float64\n",
            " 14  V14     772 non-null    float64\n",
            " 15  V15     772 non-null    float64\n",
            " 16  V16     772 non-null    float64\n",
            " 17  V17     772 non-null    float64\n",
            " 18  V18     772 non-null    float64\n",
            " 19  V19     772 non-null    float64\n",
            " 20  V20     772 non-null    float64\n",
            " 21  V21     772 non-null    float64\n",
            " 22  V22     772 non-null    float64\n",
            " 23  V23     772 non-null    float64\n",
            " 24  V24     772 non-null    float64\n",
            " 25  V25     772 non-null    float64\n",
            " 26  V26     772 non-null    float64\n",
            " 27  V27     772 non-null    float64\n",
            " 28  V28     772 non-null    float64\n",
            " 29  Amount  772 non-null    float64\n",
            " 30  Class   772 non-null    int64  \n",
            "dtypes: float64(29), int64(2)\n",
            "memory usage: 187.1 KB\n",
            "None\n",
            "             Time          V1          V2          V3          V4          V5  \\\n",
            "count  772.000000  772.000000  772.000000  772.000000  772.000000  772.000000   \n",
            "mean   283.005181   -0.176963    0.217169    0.875172    0.285628   -0.005029   \n",
            "std    171.834196    1.294724    1.173401    1.031878    1.258758    1.098143   \n",
            "min      0.000000   -6.093248  -12.114213   -5.694973   -4.657545   -6.631951   \n",
            "25%    126.500000   -0.896416   -0.174684    0.308677   -0.460058   -0.534567   \n",
            "50%    282.000000   -0.382618    0.285843    0.905435    0.395919   -0.116612   \n",
            "75%    432.000000    1.110739    0.885745    1.532969    1.117559    0.452818   \n",
            "max    581.000000    1.586093    5.267376    3.772857    4.075817    7.672544   \n",
            "\n",
            "               V6          V7          V8          V9  ...         V21  \\\n",
            "count  772.000000  772.000000  772.000000  772.000000  ...  772.000000   \n",
            "mean     0.159081    0.123329   -0.057547   -0.030384  ...    0.004888   \n",
            "std      1.225682    0.852075    0.830144    0.878183  ...    0.609335   \n",
            "min     -3.498447   -4.925568   -7.494658   -2.770089  ...   -4.134608   \n",
            "25%     -0.630717   -0.296289   -0.167880   -0.517068  ...   -0.213746   \n",
            "50%     -0.109581    0.116329    0.034755   -0.082270  ...   -0.075802   \n",
            "75%      0.482972    0.575390    0.252395    0.412261  ...    0.095149   \n",
            "max      5.122103    4.808426    2.134599    5.459274  ...    5.273420   \n",
            "\n",
            "              V22         V23         V24         V25         V26         V27  \\\n",
            "count  772.000000  772.000000  772.000000  772.000000  772.000000  772.000000   \n",
            "mean    -0.096995   -0.040344   -0.002501    0.114337    0.022782    0.023353   \n",
            "std      0.607228    0.358724    0.621507    0.429667    0.484227    0.300934   \n",
            "min     -2.776923   -3.553381   -1.867208   -1.389079   -1.243924   -2.377933   \n",
            "25%     -0.525289   -0.176915   -0.379766   -0.166227   -0.313631   -0.047868   \n",
            "50%     -0.076551   -0.048353    0.091886    0.143723   -0.026414    0.023199   \n",
            "75%      0.307438    0.070085    0.426339    0.425798    0.260408    0.112199   \n",
            "max      1.574750    3.150413    1.215279    1.136720    3.087444    2.490503   \n",
            "\n",
            "              V28       Amount       Class  \n",
            "count  772.000000   772.000000  772.000000  \n",
            "mean    -0.017045    68.668290    0.011658  \n",
            "std      0.278332   197.838269    0.107411  \n",
            "min     -2.735623     0.000000    0.000000  \n",
            "25%     -0.033083     5.987500    0.000000  \n",
            "50%      0.021034    16.665000    0.000000  \n",
            "75%      0.087023    55.527500    0.000000  \n",
            "max      1.575380  3828.040000    1.000000  \n",
            "\n",
            "[8 rows x 31 columns]\n",
            "Class\n",
            "0    763\n",
            "1      9\n",
            "Name: count, dtype: int64\n",
            "Time      0\n",
            "V1        0\n",
            "V2        0\n",
            "V3        0\n",
            "V4        0\n",
            "V5        0\n",
            "V6        0\n",
            "V7        0\n",
            "V8        0\n",
            "V9        0\n",
            "V10       0\n",
            "V11       0\n",
            "V12       0\n",
            "V13       0\n",
            "V14       0\n",
            "V15       0\n",
            "V16       0\n",
            "V17       0\n",
            "V18       0\n",
            "V19       0\n",
            "V20       0\n",
            "V21       0\n",
            "V22       0\n",
            "V23       0\n",
            "V24       0\n",
            "V25       0\n",
            "V26       0\n",
            "V27       0\n",
            "V28       0\n",
            "Amount    0\n",
            "Class     0\n",
            "dtype: int64\n"
          ]
        }
      ]
    },
    {
      "cell_type": "markdown",
      "source": [
        "\n",
        "# Class Distribution Before SMOTE"
      ],
      "metadata": {
        "id": "ue6XqrSWcPOo"
      }
    },
    {
      "cell_type": "code",
      "source": [
        "class_counts = df['Class'].value_counts()\n",
        "class_proportions = df['Class'].value_counts(normalize=True) * 100\n",
        "\n",
        "class_counts.plot(kind='bar', title='Class Distribution Before SMOTE', color=['blue', 'red'])\n",
        "plt.xlabel('Class')\n",
        "plt.ylabel('Count')\n",
        "plt.show()"
      ],
      "metadata": {
        "colab": {
          "base_uri": "https://localhost:8080/",
          "height": 467
        },
        "id": "cfDU9M6zZCFN",
        "outputId": "79e4326e-34a5-4b51-80a7-179ba94de57d"
      },
      "execution_count": 91,
      "outputs": [
        {
          "output_type": "display_data",
          "data": {
            "text/plain": [
              "<Figure size 640x480 with 1 Axes>"
            ],
            "image/png": "[encoded data removed]"
          },
          "metadata": {}
        }
      ]
    },
    {
      "cell_type": "markdown",
      "source": [
        "# Class Distribution After SMOTE"
      ],
      "metadata": {
        "id": "_rZIRXrNdNpS"
      }
    },
    {
      "cell_type": "code",
      "source": [
        "X = df.drop('Class', axis=1)  # Features\n",
        "y = df['Class']               # Target variable\n",
        "\n",
        "smote = SMOTE(sampling_strategy='auto', random_state=42)\n",
        "\n",
        "X_resampled, y_resampled = smote.fit_resample(X, y)\n",
        "\n",
        "print(\"Original class distribution:\")\n",
        "print(y.value_counts())\n",
        "print(\"\\nResampled class distribution:\")\n",
        "print(pd.Series(y_resampled).value_counts())\n",
        "\n",
        "y_resampled_counts = pd.Series(y_resampled).value_counts()\n",
        "y_resampled_counts.plot(kind='bar', title='Class Distribution After SMOTE', color=['blue', 'red'])\n",
        "plt.xlabel('Class')\n",
        "plt.ylabel('Count')\n",
        "plt.show()\n"
      ],
      "metadata": {
        "colab": {
          "base_uri": "https://localhost:8080/",
          "height": 658
        },
        "id": "2tOYTMvYZSCv",
        "outputId": "46cbd49f-fb82-42a1-f0b2-cf8257382ced"
      },
      "execution_count": 92,
      "outputs": [
        {
          "output_type": "stream",
          "name": "stdout",
          "text": [
            "Original class distribution:\n",
            "Class\n",
            "0    763\n",
            "1      9\n",
            "Name: count, dtype: int64\n",
            "\n",
            "Resampled class distribution:\n",
            "Class\n",
            "0    763\n",
            "1    763\n",
            "Name: count, dtype: int64\n"
          ]
        },
        {
          "output_type": "display_data",
          "data": {
            "text/plain": [
              "<Figure size 640x480 with 1 Axes>"
            ],
            "image/png": "[encoded data removed]"
          },
          "metadata": {}
        }
      ]
    },
    {
      "cell_type": "markdown",
      "source": [
        "# Simple Random Sampling"
      ],
      "metadata": {
        "id": "ahkGAlLddU3c"
      }
    },
    {
      "cell_type": "code",
      "source": [
        "np.random.seed(42)\n",
        "\n",
        "X_train_random, X_test_random, y_train_random, y_test_random = train_test_split(X, y, test_size=0.2, random_state=42)"
      ],
      "metadata": {
        "id": "bxC_YPABZ0MX"
      },
      "execution_count": 93,
      "outputs": []
    },
    {
      "cell_type": "markdown",
      "source": [
        "# Stratified Sampling"
      ],
      "metadata": {
        "id": "_IU_JEgwf350"
      }
    },
    {
      "cell_type": "code",
      "source": [
        "stratified_split = list(StratifiedShuffleSplit(n_splits=1, test_size=0.2, random_state=42).split(X, y))[0]\n",
        "X_strat_train = X.iloc[stratified_split[0]]\n",
        "y_strat_train = y.iloc[stratified_split[0]]"
      ],
      "metadata": {
        "id": "DXAZAKltf4HE"
      },
      "execution_count": 94,
      "outputs": []
    },
    {
      "cell_type": "markdown",
      "source": [
        "# Cluster Sampling"
      ],
      "metadata": {
        "id": "5O1hU1ftf4W1"
      }
    },
    {
      "cell_type": "code",
      "source": [
        "kmeans = KMeans(n_clusters=5, random_state=42)\n",
        "X_clustered = X.copy()\n",
        "X_clustered['Cluster'] = kmeans.fit_predict(X)\n",
        "cluster_sample_indices = []\n",
        "for cluster in range(5):\n",
        "    cluster_indices = X_clustered[X_clustered['Cluster'] == cluster].index\n",
        "    sample_indices = np.random.choice(cluster_indices, size=int(len(cluster_indices)*0.2), replace=False)\n",
        "    cluster_sample_indices.extend(sample_indices)\n",
        "\n",
        "X_cluster_sampled = X.loc[cluster_sample_indices]\n",
        "y_cluster_sampled = y.loc[cluster_sample_indices]"
      ],
      "metadata": {
        "id": "8alrb9lMf4gc"
      },
      "execution_count": 95,
      "outputs": []
    },
    {
      "cell_type": "markdown",
      "source": [
        "# Bootstrap Sampling"
      ],
      "metadata": {
        "id": "-eJMMmLuf4qV"
      }
    },
    {
      "cell_type": "code",
      "source": [
        "bootstrap_indices = np.random.choice(len(X), size=len(X), replace=True)\n",
        "X_bootstrap = X.iloc[bootstrap_indices]\n",
        "y_bootstrap = y.iloc[bootstrap_indices]\n",
        "\n",
        "sampling_techniques = {\n",
        "    'Simple Random Sampling': (X_train_random, y_train_random),\n",
        "    'Bootstrap Sampling': (X_bootstrap, y_bootstrap),\n",
        "    'Stratified Sampling': (X_strat_train, y_strat_train),\n",
        "    'Cluster Sampling': (X_cluster_sampled, y_cluster_sampled)\n",
        "}"
      ],
      "metadata": {
        "id": "y_WWcFv4f4zc"
      },
      "execution_count": 96,
      "outputs": []
    },
    {
      "cell_type": "markdown",
      "source": [
        "# Training Model"
      ],
      "metadata": {
        "id": "SI6BbZsbf49C"
      }
    },
    {
      "cell_type": "code",
      "source": [
        "models = {\n",
        "    'Random Forest': RandomForestClassifier(random_state=42),\n",
        "    'Logistic Regression': LogisticRegression(random_state=42, max_iter=1000),\n",
        "    'SVM': SVC(random_state=42),\n",
        "    'Decision Tree': DecisionTreeClassifier(random_state=42),\n",
        "    'KNN': KNeighborsClassifier()\n",
        "}"
      ],
      "metadata": {
        "id": "Z4cqrHr1f5Fl"
      },
      "execution_count": 97,
      "outputs": []
    },
    {
      "cell_type": "markdown",
      "source": [
        "# Model Evaluation"
      ],
      "metadata": {
        "id": "gXkmGm1tgbdb"
      }
    },
    {
      "cell_type": "code",
      "source": [
        "results = {}\n",
        "\n",
        "for sampling_name, (X_sample, y_sample) in sampling_techniques.items():\n",
        "    print(f\"\\nResults for {sampling_name}:\")\n",
        "\n",
        "    X_train, X_test, y_train, y_test = train_test_split(\n",
        "        X_sample, y_sample, test_size=0.2, random_state=42\n",
        "    )\n",
        "\n",
        "    scaler = StandardScaler()\n",
        "    X_train_scaled = scaler.fit_transform(X_train)\n",
        "    X_test_scaled = scaler.transform(X_test)\n",
        "\n",
        "    sampling_results = {}\n",
        "    for model_name, model in models.items():\n",
        "        try:\n",
        "            model.fit(X_train_scaled, y_train)\n",
        "            y_pred = model.predict(X_test_scaled)\n",
        "            accuracy = accuracy_score(y_test, y_pred)\n",
        "            sampling_results[model_name] = accuracy * 100\n",
        "            print(f\"{model_name} Accuracy: {accuracy * 100:.2f}%\")\n",
        "        except Exception as e:\n",
        "            print(f\"Error with {model_name}: {e}\")\n",
        "            sampling_results[model_name] = 0\n",
        "\n",
        "    results[sampling_name] = sampling_results\n",
        "\n",
        "results_df = pd.DataFrame.from_dict(results, orient='index')\n",
        "print(\"\\nDetailed Results:\\n\", results_df)"
      ],
      "metadata": {
        "colab": {
          "base_uri": "https://localhost:8080/"
        },
        "id": "5RwYjufkgbnL",
        "outputId": "da6d672d-348b-4703-d878-e6765e8e5318"
      },
      "execution_count": 102,
      "outputs": [
        {
          "output_type": "stream",
          "name": "stdout",
          "text": [
            "\n",
            "Results for Simple Random Sampling:\n",
            "Random Forest Accuracy: 97.58%\n",
            "Logistic Regression Accuracy: 97.58%\n",
            "SVM Accuracy: 97.58%\n",
            "Decision Tree Accuracy: 95.97%\n",
            "KNN Accuracy: 97.58%\n",
            "\n",
            "Results for Bootstrap Sampling:\n",
            "Random Forest Accuracy: 99.35%\n",
            "Logistic Regression Accuracy: 99.35%\n",
            "SVM Accuracy: 99.35%\n",
            "Decision Tree Accuracy: 98.71%\n",
            "KNN Accuracy: 99.35%\n",
            "\n",
            "Results for Stratified Sampling:\n",
            "Random Forest Accuracy: 98.39%\n",
            "Logistic Regression Accuracy: 98.39%\n",
            "SVM Accuracy: 98.39%\n",
            "Decision Tree Accuracy: 98.39%\n",
            "KNN Accuracy: 98.39%\n",
            "\n",
            "Results for Cluster Sampling:\n",
            "Random Forest Accuracy: 100.00%\n",
            "Logistic Regression Accuracy: 100.00%\n",
            "SVM Accuracy: 100.00%\n",
            "Decision Tree Accuracy: 100.00%\n",
            "KNN Accuracy: 100.00%\n",
            "\n",
            "Detailed Results:\n",
            "                         Random Forest  Logistic Regression         SVM  \\\n",
            "Simple Random Sampling      97.580645            97.580645   97.580645   \n",
            "Bootstrap Sampling          99.354839            99.354839   99.354839   \n",
            "Stratified Sampling         98.387097            98.387097   98.387097   \n",
            "Cluster Sampling           100.000000           100.000000  100.000000   \n",
            "\n",
            "                        Decision Tree         KNN  \n",
            "Simple Random Sampling      95.967742   97.580645  \n",
            "Bootstrap Sampling          98.709677   99.354839  \n",
            "Stratified Sampling         98.387097   98.387097  \n",
            "Cluster Sampling           100.000000  100.000000  \n"
          ]
        }
      ]
    },
    {
      "cell_type": "markdown",
      "source": [
        "# Visualization of Accuracy"
      ],
      "metadata": {
        "id": "sXftGugfXwFR"
      }
    },
    {
      "cell_type": "code",
      "source": [
        "# Visualization of Accuracy\n",
        "plt.figure(figsize=(10, 6))\n",
        "\n",
        "# Flatten results into a DataFrame for easier plotting\n",
        "results_df = pd.DataFrame.from_dict(results, orient='index')\n",
        "results_melted = results_df.reset_index().melt(id_vars='index', var_name='Model', value_name='Accuracy')\n",
        "\n",
        "# Create bar plot\n",
        "plt.bar(results_melted['Model'], results_melted['Accuracy'])\n",
        "plt.title('Model Accuracy Comparison')\n",
        "plt.xlabel('Models')\n",
        "plt.ylabel('Accuracy (%)')\n",
        "plt.ylim(0, 100)\n",
        "plt.xticks(rotation=45)\n",
        "\n",
        "# Add value labels on top of each bar\n",
        "for i, v in enumerate(results_melted['Accuracy']):\n",
        "    plt.text(i, v, f'{v:.2f}%', ha='center', va='bottom')\n",
        "\n",
        "plt.tight_layout()\n",
        "plt.savefig('accuracy_comparison.png')\n",
        "plt.close()"
      ],
      "metadata": {
        "colab": {
          "base_uri": "https://localhost:8080/"
        },
        "id": "7njqrAgLXw2U",
        "outputId": "b9cf99e5-da29-4441-8873-deeddae959db"
      },
      "execution_count": 109,
      "outputs": [
        {
          "output_type": "stream",
          "name": "stderr",
          "text": [
            "<ipython-input-109-1b869521ed64>:23: UserWarning: Tight layout not applied. The left and right margins cannot be made large enough to accommodate all Axes decorations.\n",
            "  plt.tight_layout(pad=2.0)\n"
          ]
        }
      ]
    }
  ]
}